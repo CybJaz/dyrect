{
 "cells": [
  {
   "cell_type": "code",
   "execution_count": null,
   "id": "0b0d9bd7",
   "metadata": {
    "pycharm": {
     "name": "#%%\n"
    }
   },
   "outputs": [],
   "source": [
    "%matplotlib notebook\n",
    "from IPython.display import display, HTML\n",
    "display(HTML(\"<style>.container { width:100% !important; }</style>\"))\n",
    "import matplotlib.pyplot as plt\n",
    "\n",
    "import numpy as np\n",
    "import pandas as pd\n",
    "import seaborn as sns"
   ]
  },
  {
   "cell_type": "code",
   "execution_count": null,
   "id": "be5f6a7b",
   "metadata": {
    "pycharm": {
     "name": "#%%\n"
    }
   },
   "outputs": [],
   "source": [
    "square_data = pd.read_csv('experiments_output/unit_square_datasize_experiment.csv')\n",
    "# square_data = pd.read_csv('experiments_output/small_unit_square_datasize_experiment.csv')"
   ]
  },
  {
   "cell_type": "code",
   "execution_count": null,
   "id": "1a5c7a08",
   "metadata": {
    "pycharm": {
     "name": "#%%\n"
    }
   },
   "outputs": [],
   "source": [
    "square_data[-10:]"
   ]
  },
  {
   "cell_type": "code",
   "execution_count": null,
   "id": "ee6f45ce",
   "metadata": {
    "pycharm": {
     "name": "#%%\n"
    }
   },
   "outputs": [],
   "source": [
    "plt.figure()\n",
    "plt.plot([1000, 50000], [0, 0], '--', c='k')\n",
    "sns.lineplot(data=square_data[square_data['patching_level']==0], x='number of points', y='1-Betti number', \n",
    "             errorbar='sd')\n",
    "# plt.ylim([0,10])"
   ]
  },
  {
   "cell_type": "code",
   "execution_count": null,
   "id": "7a31fea7",
   "metadata": {
    "pycharm": {
     "name": "#%%\n"
    }
   },
   "outputs": [],
   "source": [
    "plt.figure()\n",
    "plt.plot([2000, 10000], [0, 0], '--', c='k')\n",
    "sns.lineplot(data=square_data[square_data['patching_level']>0], x='number of points', y='1-Betti number', hue='patching_level', \n",
    "             errorbar='sd',\n",
    "             palette=sns.color_palette(n_colors=5))\n",
    "# plt.ylim([0,10])"
   ]
  },
  {
   "cell_type": "code",
   "execution_count": null,
   "id": "69ed8fb5",
   "metadata": {
    "pycharm": {
     "name": "#%%\n"
    }
   },
   "outputs": [],
   "source": [
    "# plt.plot([1000, 10000], [0, 0], '--', c='k')\n",
    "plt.figure()\n",
    "sns.lineplot(data=square_data, x='number of points', y='number of landmarks',\n",
    "             errorbar='sd',\n",
    "             palette=sPHns.color_palette(n_colors=5))\n",
    "# plt.ylim([0,5])"
   ]
  },
  {
   "cell_type": "code",
   "execution_count": null,
   "id": "fcd2cd5a",
   "metadata": {
    "pycharm": {
     "name": "#%%\n"
    }
   },
   "outputs": [],
   "source": [
    "plt.figure()\n",
    "plt.plot([1000, 10000], [0, 0], '--', c='k')\n",
    "sns.lineplot(data=square_data, x='number of points', y='nonconvex holes', hue='patching_level', \n",
    "             errorbar='sd',\n",
    "             palette=sns.color_palette(n_colors=5))\n",
    "plt.xlim([0,8000])"
   ]
  },
  {
   "cell_type": "code",
   "execution_count": null,
   "id": "39a77e67",
   "metadata": {
    "pycharm": {
     "name": "#%%\n"
    }
   },
   "outputs": [],
   "source": []
  },
  {
   "cell_type": "code",
   "execution_count": null,
   "id": "cd05b342",
   "metadata": {
    "pycharm": {
     "name": "#%%\n"
    }
   },
   "outputs": [],
   "source": []
  }
 ],
 "metadata": {
  "kernelspec": {
   "display_name": "Python 3 (ipykernel)",
   "language": "python",
   "name": "python3"
  },
  "language_info": {
   "codemirror_mode": {
    "name": "ipython",
    "version": 3
   },
   "file_extension": ".py",
   "mimetype": "text/x-python",
   "name": "python",
   "nbconvert_exporter": "python",
   "pygments_lexer": "ipython3",
   "version": "3.9.13"
  }
 },
 "nbformat": 4,
 "nbformat_minor": 5
}

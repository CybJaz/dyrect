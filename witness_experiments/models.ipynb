{
 "cells": [
  {
   "cell_type": "code",
   "execution_count": null,
   "id": "adc61f3c",
   "metadata": {},
   "outputs": [],
   "source": [
    "%matplotlib notebook\n",
    "from IPython.display import display, HTML\n",
    "display(HTML(\"<style>.container { width:100% !important; }</style>\"))\n",
    "import matplotlib.pyplot as plt\n",
    "# import miniball\n",
    "import numpy as np\n",
    "\n",
    "import sys\n",
    "from plyfile import PlyData, PlyElement\n",
    "sys.path.append('../')\n",
    "import dyrect as dy\n",
    "from dyrect import draw_complex, unit_circle_sample, EpsilonNet, NerveComplex, PatchedWitnessComplex"
   ]
  },
  {
   "cell_type": "code",
   "execution_count": null,
   "id": "ecb330d9",
   "metadata": {},
   "outputs": [],
   "source": [
    "### These are some models downloaded from: http://graphics.stanford.edu/data/3Dscanrep/\n",
    "\n",
    "## Bunny\n",
    "# plydata = PlyData.read('models/bunny/data/bun000.ply')\n",
    "# plydata = PlyData.read('models/bunny/data/bun045.ply')\n",
    "plydata = PlyData.read('models/bunny/reconstruction/bun_zipper.ply')\n",
    "# plydata = PlyData.read('models/bunny/reconstruction/bun_zipper_res2.ply')\n",
    "# plydata = PlyData.read('models/bunny/reconstruction/bun_zipper_res3.ply')\n",
    "\n",
    "## Buddha\n",
    "# plydata = PlyData.read('models/happy_stand/happyStandRight_0.ply')"
   ]
  },
  {
   "cell_type": "code",
   "execution_count": null,
   "id": "9e078bc4",
   "metadata": {},
   "outputs": [],
   "source": [
    "px = plydata.elements[0].data['x']\n",
    "py = plydata.elements[0].data['y']\n",
    "pz = plydata.elements[0].data['z']\n",
    "points = np.transpose(np.array([px, py, pz]))\n",
    "points.shape"
   ]
  },
  {
   "cell_type": "code",
   "execution_count": null,
   "id": "d0a94f11",
   "metadata": {},
   "outputs": [],
   "source": [
    "fig = plt.figure()\n",
    "ax = fig.add_subplot(projection='3d')\n",
    "ax.scatter(px,py,pz, s=0.01)"
   ]
  },
  {
   "cell_type": "code",
   "execution_count": null,
   "id": "4f5e6ec2",
   "metadata": {},
   "outputs": [],
   "source": [
    "### Choose landmarks with epsilon net\n",
    "eps = 0.0075\n",
    "EN = EpsilonNet(eps, 0)\n",
    "EN.fit(points)\n",
    "lms = EN.landmarks"
   ]
  },
  {
   "cell_type": "code",
   "execution_count": null,
   "id": "ebfc195f",
   "metadata": {},
   "outputs": [],
   "source": [
    "### Draw landmarks\n",
    "print(lms.shape)\n",
    "fig = plt.figure()\n",
    "ax = fig.add_subplot(projection='3d')\n",
    "ax.scatter(lms[:,0],lms[:,1],lms[:,2])"
   ]
  },
  {
   "cell_type": "code",
   "execution_count": null,
   "id": "241de477",
   "metadata": {},
   "outputs": [],
   "source": [
    "### Witness without patching\n",
    "anc = AlphaNerveComplex(lms, eps, 2, points=points, patching=False, record_witnesses=True)"
   ]
  },
  {
   "cell_type": "code",
   "execution_count": null,
   "id": "22fe9163",
   "metadata": {
    "scrolled": false
   },
   "outputs": [],
   "source": [
    "anc._dim = 3\n",
    "fig = plt.figure(figsize=(10,10))\n",
    "ax = fig.add_subplot(projection='3d')\n",
    "draw_complex(anc, fig=fig, ax=ax, vlabels=False)\n",
    "non_witnesses = np.array([points[i, :] for i in anc.non_witnesses[2]])\n",
    "# print(anc.not_witnessed[2])\n",
    "# ax.scatter(non_witnesses[:, 0], non_witnesses[:, 1], non_witnesses[:, 2], color='k', s = 0.5)\n",
    "# plt.show()"
   ]
  },
  {
   "cell_type": "code",
   "execution_count": null,
   "id": "2aab579a",
   "metadata": {},
   "outputs": [],
   "source": [
    "### Witness with 4-patching\n",
    "panc = AlphaNerveComplex(lms, eps, 2, points=points, patching=True, record_witnesses=True)"
   ]
  },
  {
   "cell_type": "code",
   "execution_count": null,
   "id": "3ade9acb",
   "metadata": {},
   "outputs": [],
   "source": [
    "panc._dim = 3\n",
    "fig = plt.figure(figsize=(10,10))\n",
    "ax = fig.add_subplot(projection='3d')\n",
    "draw_complex(panc, fig=fig, ax=ax, vlabels=False)\n",
    "# non_witnesses = np.array([points[i, :] for i in anc.non_witnesses[2]])\n",
    "# print(anc.not_witnessed[2])\n",
    "# ax.scatter(non_witnesses[:, 0], non_witnesses[:, 1], color='k', s = 0.5)\n",
    "# plt.show()"
   ]
  },
  {
   "cell_type": "code",
   "execution_count": null,
   "id": "792ea327",
   "metadata": {},
   "outputs": [],
   "source": []
  },
  {
   "cell_type": "code",
   "execution_count": null,
   "id": "924bd3a8",
   "metadata": {},
   "outputs": [],
   "source": []
  }
 ],
 "metadata": {
  "kernelspec": {
   "display_name": "Python 3 (ipykernel)",
   "language": "python",
   "name": "python3"
  },
  "language_info": {
   "codemirror_mode": {
    "name": "ipython",
    "version": 3
   },
   "file_extension": ".py",
   "mimetype": "text/x-python",
   "name": "python",
   "nbconvert_exporter": "python",
   "pygments_lexer": "ipython3",
   "version": "3.9.13"
  }
 },
 "nbformat": 4,
 "nbformat_minor": 5
}

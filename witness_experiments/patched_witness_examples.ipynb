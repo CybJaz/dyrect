{
 "cells": [
  {
   "cell_type": "code",
   "execution_count": null,
   "id": "551fc797",
   "metadata": {
    "pycharm": {
     "name": "#%%\n"
    }
   },
   "outputs": [],
   "source": [
    "%matplotlib notebook\n",
    "from IPython.display import display, HTML\n",
    "display(HTML(\"<style>.container { width:100% !important; }</style>\"))\n",
    "\n",
    "import matplotlib.pyplot as plt\n",
    "import numpy as np\n",
    "from plyfile import PlyData, PlyElement\n",
    "import math\n",
    "\n",
    "import sys\n",
    "sys.path.append('../')\n",
    "import dyrect as dy\n",
    "from dyrect import draw_complex, unit_circle_sample, EpsilonNet, \\\n",
    "PatchedWitnessComplex, WitnessComplex\n",
    "\n",
    "out_path = 'meshes/'"
   ]
  },
  {
   "cell_type": "code",
   "execution_count": null,
   "id": "31fb219a",
   "metadata": {
    "pycharm": {
     "name": "#%%\n"
    }
   },
   "outputs": [],
   "source": [
    "def save_as_plyfile(pts, lines, triangles, mesh_name):\n",
    "    x, y, z = pts[:, 0], pts[:, 1], pts[:, 2]\n",
    "    pts = list(zip(x, y, z))\n",
    "\n",
    "    # the vertex are required to a 1-d list\n",
    "    vertex = np.array(pts, dtype=[('x', 'f4'), ('y', 'f4'), ('z', 'f4')])\n",
    "    \n",
    "    \n",
    "    faces = np.array([(list(tr), 122, 122,122) for tr in triangles],\n",
    "                     dtype=[('vertex_indices', 'i4', (3,)), ('red', 'u1'), ('green', 'u1'), ('blue', 'u1')])\n",
    "    edges = np.array([(list(ln), 50, 50, 50) for ln in lines],\n",
    "                     dtype=[('vertex_indices', 'i4', (2,)), ('red', 'u1'), ('green', 'u1'), ('blue', 'u1')])\n",
    "\n",
    "\n",
    "    el0 = PlyElement.describe(vertex, 'vertex')\n",
    "    el1 = PlyElement.describe(edges, 'edges')\n",
    "    el2 = PlyElement.describe(faces, 'face')\n",
    "    PlyData([el0, el1, el2], text=mesh_name).write(out_path + mesh_name + '.ply')\n"
   ]
  },
  {
   "cell_type": "code",
   "execution_count": null,
   "id": "89e4a41c",
   "metadata": {
    "pycharm": {
     "name": "#%%\n"
    }
   },
   "outputs": [],
   "source": [
    "def load_plyfile(filename):\n",
    "    plydata = PlyData.read(filename)\n",
    "    coords = plydata.elements[0].data\n",
    "    simplices = {}\n",
    "    simplices[0] = [(v,) for v in range(len(coords))]\n",
    "    simplices[1] = [tuple(e) for [e,_,_,_] in plydata.elements[1].data]\n",
    "    simplices[2] = [tuple(t) for [t,_,_,_] in plydata.elements[2].data]\n",
    "    return coords, simplices\n",
    "\n",
    "from itertools import combinations\n",
    "def load_native_plyfile(filename):\n",
    "    plydata = PlyData.read(filename)\n",
    "    coords = plydata.elements[0].data\n",
    "    simplices = {}\n",
    "    simplices[0] = [(v,) for v in range(len(coords))]\n",
    "    simplices[1] = []\n",
    "    simplices[2] = [tuple(t) for [t] in plydata.elements[1].data]\n",
    "    for s in simplices[2]:\n",
    "        for edge in combinations(s, 2):\n",
    "            if edge not in simplices[1]:\n",
    "                simplices[1].append(edge)\n",
    "    return coords, simplices\n"
   ]
  },
  {
   "cell_type": "code",
   "execution_count": null,
   "id": "70007232",
   "metadata": {
    "pycharm": {
     "name": "#%%\n"
    }
   },
   "outputs": [],
   "source": [
    "# plydata = PlyData.read(out_path + \"thomas_30_after_patching_level_3.ply\")\n",
    "plydata = PlyData.read(out_path + \"torus_after_patching_level_2.ply\")\n",
    "\n",
    "coords, simplices = load_plyfile(out_path + \"torus_after_patching_level_2.ply\")\n",
    "simplices"
   ]
  },
  {
   "cell_type": "code",
   "execution_count": null,
   "id": "d569c539",
   "metadata": {},
   "outputs": [],
   "source": [
    "plydata = PlyData.read(out_path + \"lorenz_model_holes.ply\")\n",
    "plydata.elements[1].data"
   ]
  },
  {
   "cell_type": "code",
   "execution_count": null,
   "id": "abfa7c08",
   "metadata": {},
   "outputs": [],
   "source": [
    "coords, simplices = load_native_plyfile(out_path + \"lorenz_model_holes.ply\")"
   ]
  },
  {
   "cell_type": "code",
   "execution_count": null,
   "id": "f767bc0c",
   "metadata": {
    "pycharm": {
     "name": "#%%\n"
    }
   },
   "outputs": [],
   "source": [
    "simplices[2]"
   ]
  },
  {
   "cell_type": "markdown",
   "id": "aed02c7c",
   "metadata": {
    "pycharm": {
     "name": "#%% md\n"
    }
   },
   "source": [
    "# UNIT SQUARE"
   ]
  },
  {
   "cell_type": "code",
   "execution_count": null,
   "id": "b023add8",
   "metadata": {
    "pycharm": {
     "name": "#%%\n"
    },
    "scrolled": false
   },
   "outputs": [],
   "source": [
    "np.random.seed(2)\n",
    "points = np.random.random((10000,2))\n",
    "eps=0.055\n",
    "\n",
    "EN = EpsilonNet(eps, 0)\n",
    "EN.fit(points)\n",
    "lms = EN.landmarks\n",
    "print(\"Number of points: \", len(points))\n",
    "print(\"Number of landmarks: \", len(lms))\n",
    "# np.random.seed(2)\n",
    "# points = np.random.random((24000,2))\n",
    "\n",
    "fwidth = 12\n",
    "fig = plt.figure(figsize=(fwidth, fwidth*0.4))\n",
    "rows = 1\n",
    "cols = 2\n",
    "\n",
    "ax = plt.subplot(rows, cols, 1)\n",
    "plt.scatter(points[:,0], points[:,1], s=0.2)\n",
    "plt.scatter(lms[:,0], lms[:,1], s=5.2)\n",
    "\n",
    "for lm in lms:\n",
    "    crc = plt.Circle(lm, eps, color='r', alpha=0.05)\n",
    "    ax.add_patch(crc)\n",
    "\n",
    "ax = plt.subplot(rows, cols, 2)\n",
    "# pwc = PatchedWitnessComplex(lms, points, 2, patching_level=1)\n",
    "wc = WitnessComplex(lms, points, 2)\n",
    "draw_complex(wc, fig=fig, ax=ax, vlabels=False)\n",
    "# print(pwc._unproductive_witnesses)\n",
    "[unprod_x, unprod_y] = np.array([points[i, :] for i in wc._barren_witnesses[2]]).T\n",
    "ax.scatter(unprod_x, unprod_y, color='k', s = 0.5)\n",
    "plt.show()\n",
    "\n",
    "print(\"Betti numbers before patching: \", wc.betti_numbers)\n",
    "\n",
    "#### patching\n",
    "# patching_levels = [1,2,3,4]\n",
    "patching_levels = [1,2,3]\n",
    "\n",
    "fwidth = 20\n",
    "fig = plt.figure(figsize=(fwidth, fwidth * 1./len(patching_levels)))\n",
    "rows = 1\n",
    "cols = len(patching_levels)\n",
    "\n",
    "for ip, p in enumerate(patching_levels):\n",
    "    ax = plt.subplot(rows, cols, ip+1)\n",
    "    pwc2 = PatchedWitnessComplex(lms, points, 2, patching_level=p)\n",
    "#     pwc2 = PatchedWitnessComplex(lms, eps, 2, points=points, patching=True, patching_level=p)\n",
    "    print(\"Betti numbers at patching level \", p,  \": \", pwc2.betti_numbers)\n",
    "    draw_complex(pwc2, fig=fig, ax=ax)\n",
    "    plt.show()\n"
   ]
  },
  {
   "cell_type": "markdown",
   "id": "74ce834f",
   "metadata": {
    "pycharm": {
     "name": "#%% md\n"
    }
   },
   "source": [
    "# DOUBLE-CIRCLE"
   ]
  },
  {
   "cell_type": "code",
   "execution_count": null,
   "id": "e6778e06",
   "metadata": {
    "pycharm": {
     "name": "#%%\n"
    },
    "scrolled": false
   },
   "outputs": [],
   "source": [
    "np.random.seed(2)\n",
    "crc1 = unit_circle_sample(3000, 0.75) + [1.1,0]\n",
    "crc2 = unit_circle_sample(2000, 0.75) - [1.1,0]\n",
    "points = np.append(crc1, crc2, axis=0)\n",
    "eps=.2\n",
    "\n",
    "EN = EpsilonNet(eps, 0)\n",
    "EN.fit(points)\n",
    "lms = EN.landmarks\n",
    "print(\"Number of points: \", len(points))\n",
    "print(\"Number of landmarks: \", len(lms))\n",
    "\n",
    "fwidth = 12\n",
    "fig = plt.figure(figsize=(fwidth, fwidth*0.4))\n",
    "rows = 1\n",
    "cols = 2\n",
    "\n",
    "ax = plt.subplot(rows, cols, 1)\n",
    "plt.scatter(points[:,0], points[:,1], s=0.2)\n",
    "plt.scatter(lms[:,0], lms[:,1], s=5.2)\n",
    "\n",
    "for lm in lms:\n",
    "    crc = plt.Circle(lm, eps, color='r', alpha=0.05)\n",
    "    ax.add_patch(crc)\n",
    "\n",
    "ax = plt.subplot(rows, cols, 2)\n",
    "wc = WitnessComplex(lms, points, 2)\n",
    "draw_complex(wc, fig=fig, ax=ax, vlabels=False)\n",
    "[unprod_x, unprod_y] = np.array([points[i, :] for i in wc._barren_witnesses[2]]).T\n",
    "ax.scatter(unprod_x, unprod_y, color='k', s = 0.5)\n",
    "plt.show()\n",
    "print(\"Betti numbers before patching: \", wc.betti_numbers)\n",
    "\n",
    "#### patching\n",
    "patching_levels = [1,2]\n",
    "\n",
    "fwidth = 20\n",
    "fig = plt.figure(figsize=(fwidth, fwidth * 1./len(patching_levels)))\n",
    "rows = 1\n",
    "cols = len(patching_levels)\n",
    "\n",
    "for ip, p in enumerate(patching_levels):\n",
    "    ax = plt.subplot(rows, cols, ip+1)\n",
    "    pwc2 = PatchedWitnessComplex(lms, points, 2, patching_level=p)\n",
    "    print(\"Betti numbers at patching level \", p,  \": \", pwc2.betti_numbers)\n",
    "    draw_complex(pwc2, fig=fig, ax=ax)\n",
    "    plt.show()\n"
   ]
  },
  {
   "cell_type": "markdown",
   "id": "b071d51a",
   "metadata": {
    "pycharm": {
     "name": "#%% md\n"
    }
   },
   "source": [
    "# CUBE"
   ]
  },
  {
   "cell_type": "code",
   "execution_count": null,
   "id": "89ad705c",
   "metadata": {
    "pycharm": {
     "name": "#%%\n"
    }
   },
   "outputs": [],
   "source": [
    "np.random.seed(2)\n",
    "points = np.random.random((10000,3))\n",
    "\n",
    "data_aspect = (np.ptp(points[:, 0]), np.ptp(points[:, 1]), np.ptp(points[:, 2]))\n",
    "eps = 0.2\n",
    "EN = EpsilonNet(eps, 0)\n",
    "EN.fit(points)\n",
    "lms = EN.landmarks\n",
    "print(\"Number of points: \", len(points))\n",
    "print(\"Number of landmarks: \", len(lms))\n",
    "\n",
    "fwidth = 12\n",
    "fig = plt.figure(figsize=(fwidth, fwidth*0.4))\n",
    "\n",
    "rows = 1\n",
    "cols = 2\n",
    "ax = plt.subplot(rows, cols, 1, projection='3d')\n",
    "# ax = fig.add_subplot(projection='3d')\n",
    "ax.scatter(points[:,0], points[:,1], points[:,2], s=1.5)\n",
    "ax.scatter(lms[:,0], lms[:,1], lms[:,2], s=10.)\n",
    "ax.set_box_aspect(data_aspect)\n",
    "\n",
    "ax = plt.subplot(rows, cols, 2, projection='3d')\n",
    "pwc = PatchedWitnessComplex(lms, eps, 3, points=points, patching=False, record_witnesses=True)\n",
    "pwc._dim = 3\n",
    "draw_complex(pwc, fig=fig, ax=ax, vlabels=True)\n",
    "[unprod_x, unprod_y,  unprod_z] = np.array([points[i, :] for i in pwc._unproductive_witnesses[2]]).T\n",
    "# ax.scatter(unprod_x, unprod_y, unprod_z, color='k', s = 0.5)\n",
    "ax.set_box_aspect(data_aspect)\n",
    "plt.show()\n",
    "print(\"Betti numbers before patching: \", pwc.betti_numbers)\n",
    "# save_as_plyfile(lms, pwc.simplices[1], pwc.simplices[2], 'torus_before_patching')"
   ]
  },
  {
   "cell_type": "code",
   "execution_count": null,
   "id": "45e26f1a",
   "metadata": {
    "pycharm": {
     "name": "#%%\n"
    }
   },
   "outputs": [],
   "source": [
    "#### PATCHING\n",
    "patching_levels = [1,2,3,4,5,6,7,8]\n",
    "\n",
    "fwidth = 20\n",
    "fig = plt.figure(figsize=(fwidth, fwidth * 1./(len(patching_levels))))\n",
    "rows = 1\n",
    "cols = len(patching_levels)\n",
    "# cols = int(np.ceil(len(patching_levels)/2))\n",
    "\n",
    "for ip, p in enumerate(patching_levels):\n",
    "    ax = plt.subplot(rows, cols, ip+1, projection='3d')\n",
    "    pwc2 = PatchedWitnessComplex(lms, eps, 3, points=points, patching=True, patched_dimensions=[2,3], patching_level=p)\n",
    "    pwc2._dim = 3\n",
    "    print(\"Betti numbers at patching level \", p,  \": \", pwc2.betti_numbers)\n",
    "    draw_complex(pwc2, fig=fig, ax=ax)\n",
    "    ax.set_box_aspect(data_aspect)\n",
    "    plt.show()"
   ]
  },
  {
   "cell_type": "markdown",
   "id": "5138bf6c",
   "metadata": {
    "pycharm": {
     "name": "#%% md\n"
    }
   },
   "source": [
    "# TORUS"
   ]
  },
  {
   "cell_type": "code",
   "execution_count": null,
   "id": "5b82d9c8",
   "metadata": {
    "pycharm": {
     "name": "#%%\n"
    },
    "scrolled": false
   },
   "outputs": [],
   "source": [
    "np.random.seed(0)\n",
    "points = dy.torus_sample(6000)\n",
    "print(points.shape)\n",
    "noise_level = 0.12\n",
    "noise = np.random.random(points.shape) * noise_level - 0.5\n",
    "points = points + noise\n",
    "\n",
    "data_aspect = (np.ptp(points[:, 0]),np.ptp(points[:, 1]),np.ptp(points[:, 2]))\n",
    "eps = 0.25\n",
    "EN = EpsilonNet(eps, 0)\n",
    "EN.fit(points)\n",
    "lms = EN.landmarks\n",
    "print(\"Number of points: \", len(points))\n",
    "print(\"Number of landmarks: \", len(lms))\n",
    "\n",
    "fig = plt.figure(figsize=(fwidth, fwidth*0.4))\n",
    "\n",
    "rows = 1\n",
    "cols = 2\n",
    "ax = plt.subplot(rows, cols, 1, projection='3d')\n",
    "# ax = fig.add_subplot(projection='3d')\n",
    "ax.scatter(points[:,0], points[:,1], points[:,2], s=1.5)\n",
    "ax.scatter(lms[:,0], lms[:,1], lms[:,2], s=10.)\n",
    "ax.set_box_aspect(data_aspect)\n",
    "\n",
    "ax = plt.subplot(rows, cols, 2, projection='3d')\n",
    "wc = WitnessComplex(lms, points, 2)\n",
    "draw_complex(wc, fig=fig, ax=ax, vlabels=False)\n",
    "[unprod_x, unprod_y,  unprod_z] = np.array([points[i, :] for i in wc._barren_witnesses[2]]).T\n",
    "# ax.scatter(unprod_x, unprod_y, unprod_z, color='k', s = 0.5)\n",
    "ax.set_box_aspect(data_aspect)\n",
    "plt.show()\n",
    "print(\"Betti numbers before patching: \", wc.betti_numbers)\n",
    "save_as_plyfile(lms, wc.simplices[1], wc.simplices[2], 'torus_before_patching')"
   ]
  },
  {
   "cell_type": "code",
   "execution_count": null,
   "id": "7726df1c",
   "metadata": {
    "pycharm": {
     "name": "#%%\n"
    }
   },
   "outputs": [],
   "source": [
    "#### PATCHING\n",
    "patching_levels = [1,2,3]\n",
    "\n",
    "fwidth = 20\n",
    "fig = plt.figure(figsize=(fwidth, fwidth * 1./(len(patching_levels))))\n",
    "rows = 1\n",
    "cols = len(patching_levels)\n",
    "# cols = int(np.ceil(len(patching_levels)/2))\n",
    "\n",
    "for ip, p in enumerate(patching_levels):\n",
    "    ax = plt.subplot(rows, cols, ip+1, projection='3d')\n",
    "    pwc2 = PatchedWitnessComplex(lms, points, 2, patching_level=p)\n",
    "    print(\"Betti numbers at patching level \", p,  \": \", pwc2.betti_numbers)\n",
    "    draw_complex(pwc2, fig=fig, ax=ax)\n",
    "    ax.set_box_aspect(data_aspect)\n",
    "    plt.show()\n",
    "    save_as_plyfile(lms, pwc2.simplices[1], pwc2.simplices[2], 'torus_after_patching_level_' + str(p))"
   ]
  },
  {
   "cell_type": "markdown",
   "id": "8ca29847",
   "metadata": {
    "pycharm": {
     "name": "#%% md\n"
    }
   },
   "source": [
    "# LORENZ ATTRACTOR"
   ]
  },
  {
   "cell_type": "code",
   "execution_count": null,
   "id": "71a2e0a4",
   "metadata": {
    "pycharm": {
     "name": "#%%\n"
    },
    "scrolled": false
   },
   "outputs": [],
   "source": [
    "np.random.seed(3)\n",
    "points = dy.lorenz_attractor(10000)\n",
    "data_aspect = (np.ptp(points[:, 0]),np.ptp(points[:, 1]),np.ptp(points[:, 2]))\n",
    "eps = 2.\n",
    "eps_str = str(int(eps*10))\n",
    "EN = EpsilonNet(eps, 0)\n",
    "EN.fit(points)\n",
    "lms = EN.landmarks\n",
    "\n",
    "np.random.seed(1)\n",
    "points = dy.lorenz_attractor(200000)\n",
    "print(\"Number of points: \", len(points))\n",
    "print(\"Number of landmarks: \", len(lms))\n",
    "\n",
    "fwidth = 12\n",
    "fig = plt.figure(figsize=(fwidth, fwidth*0.4))\n",
    "\n",
    "rows = 1\n",
    "cols = 2\n",
    "ax = plt.subplot(rows, cols, 1, projection='3d')\n",
    "# ax = fig.add_subplot(projection='3d')\n",
    "ax.scatter(points[:,0], points[:,1], points[:,2], s=1.5)\n",
    "ax.scatter(lms[:,0], lms[:,1], lms[:,2], s=10.)\n",
    "ax.set_box_aspect(data_aspect)\n",
    "\n",
    "ax = plt.subplot(rows, cols, 2, projection='3d')\n",
    "wc = WitnessComplex(lms, points, 3)\n",
    "print(\"Betti numbers before patching: \", wc.betti_numbers)\n",
    "draw_complex(wc, fig=fig, ax=ax, vlabels=False)\n",
    "[unprod_x, unprod_y,  unprod_z] = np.array([points[i, :] for i in wc._barren_witnesses[2]]).T\n",
    "# pwc = PatchedWitnessComplex(lms, eps, 3, points=points, patching=False, record_witnesses=True)\n",
    "# pwc._dim = 3\n",
    "# draw_complex(pwc, fig=fig, ax=ax, vlabels=True)\n",
    "# [unprod_x, unprod_y,  unprod_z] = np.array([points[i, :] for i in pwc._unproductive_witnesses[2]]).T\n",
    "# ax.scatter(unprod_x, unprod_y, unprod_z, color='k', s = 0.5)\n",
    "ax.set_box_aspect(data_aspect)\n",
    "plt.show()\n",
    "save_as_plyfile(lms, wc.simplices[1], wc.simplices[2], 'lorenz_' + eps_str + '_before_patching')"
   ]
  },
  {
   "cell_type": "code",
   "execution_count": null,
   "id": "5efa3fc5",
   "metadata": {
    "pycharm": {
     "name": "#%%\n"
    },
    "scrolled": false
   },
   "outputs": [],
   "source": [
    "#### PATCHING\n",
    "patching_levels = [1,2,3]\n",
    "\n",
    "fwidth = 12\n",
    "fig = plt.figure(figsize=(fwidth, fwidth * 1./(len(patching_levels))))\n",
    "rows = 1\n",
    "cols = len(patching_levels)\n",
    "# cols = int(np.ceil(len(patching_levels)/2))\n",
    "\n",
    "for ip, p in enumerate(patching_levels):\n",
    "    ax = plt.subplot(rows, cols, ip+1, projection='3d')\n",
    "    pwc2 = PatchedWitnessComplex(lms, points, 3, patching_level=p)\n",
    "    print(\"Betti numbers at patching level \", p,  \": \", pwc2.betti_numbers)\n",
    "    draw_complex(pwc2, fig=fig, ax=ax)\n",
    "    ax.set_box_aspect(data_aspect)\n",
    "    plt.show()\n",
    "    save_as_plyfile(lms, pwc2.simplices[1], pwc2.simplices[2], 'lorenz_' + eps_str + '_after_patching_level_' + str(p))"
   ]
  },
  {
   "cell_type": "markdown",
   "id": "a874f528",
   "metadata": {},
   "source": [
    "# Thomas ATTRACTOR"
   ]
  },
  {
   "cell_type": "code",
   "execution_count": null,
   "id": "478931a1",
   "metadata": {},
   "outputs": [],
   "source": [
    "np.random.seed(3)\n",
    "# # points = dy.thomas_attractor(10000, step=0.001, starting_point=[0.1, 0.1, 0.1])\n",
    "points = dy.generate_points(dy.thomas_eq, 3, [1.1, 1.1, -0.01], 40000, int_step = 0.042)\n",
    "points2 = dy.generate_points(dy.thomas_eq, 3, [-0.2, 1.1, -0.01], 40000, int_step = 0.042)\n",
    "points3 = dy.generate_points(dy.thomas_eq, 3, [0.5, 0.5, -0.01], 40000, int_step = 0.042)\n",
    "\n",
    "points = np.vstack((points, points2, points3))\n",
    "# points = points\n",
    "print(points.shape)\n",
    "\n",
    "data_aspect = (np.ptp(points[:, 0]),np.ptp(points[:, 1]),np.ptp(points[:, 2]))\n",
    "eps = .25\n",
    "eps_str = str(int(eps*100))\n",
    "EN = EpsilonNet(eps, 0)\n",
    "EN.fit(points)\n",
    "lms = EN.landmarks\n",
    "\n",
    "# np.random.seed(1)\n",
    "# points = dy.lorenz_attractor(200000)\n",
    "print(\"Number of points: \", len(points))\n",
    "print(\"Number of landmarks: \", len(lms))\n",
    "print(np.max(lms[:,0]), np.max(lms[:,1]))\n",
    "\n",
    "print(points[:,:10])\n",
    "fwidth = 12\n",
    "fig = plt.figure(figsize=(fwidth, fwidth*0.4))\n",
    "\n",
    "rows = 1\n",
    "cols = 2\n",
    "ax = plt.subplot(rows, cols, 1, projection='3d')\n",
    "# ax = fig.add_subplot(projection='3d')\n",
    "ax.scatter(points[:,0], points[:,1], points[:,2], s=1.5)\n",
    "ax.scatter(lms[:,0], lms[:,1], lms[:,2], s=10.)\n",
    "ax.set_box_aspect(data_aspect)"
   ]
  },
  {
   "cell_type": "code",
   "execution_count": null,
   "id": "ff412e35",
   "metadata": {},
   "outputs": [],
   "source": [
    "filenamebase = 'thomas'\n",
    "\n",
    "ax = plt.subplot(rows, cols, 2, projection='3d')\n",
    "wc = WitnessComplex(lms, points, 3)\n",
    "print(\"Betti numbers before patching: \", wc.betti_numbers)\n",
    "draw_complex(wc, fig=fig, ax=ax, vlabels=False)\n",
    "[unprod_x, unprod_y,  unprod_z] = np.array([points[i, :] for i in wc._barren_witnesses[2]]).T\n",
    "ax.set_box_aspect(data_aspect)\n",
    "plt.show()\n",
    "save_as_plyfile(lms, wc.simplices[1], wc.simplices[2], filenamebase + '_' + eps_str + '_before_patching')\n",
    "\n",
    "#### PATCHING\n",
    "patching_levels = [4]\n",
    "max_patched_dimensions = 2\n",
    "\n",
    "fwidth = 12\n",
    "fig = plt.figure(figsize=(fwidth, fwidth * 1./(len(patching_levels))))\n",
    "rows = 1\n",
    "cols = len(patching_levels)\n",
    "# cols = int(np.ceil(len(patching_levels)/2))\n",
    "\n",
    "for ip, p in enumerate(patching_levels):\n",
    "    ax = plt.subplot(rows, cols, ip+1, projection='3d')\n",
    "    pwc2 = PatchedWitnessComplex(lms, points, 3, patching_level=p, max_patched_dimensions=max_patched_dimensions)\n",
    "    print(\"Betti numbers at patching level \", p,  \": \", pwc2.betti_numbers)\n",
    "    draw_complex(pwc2, fig=fig, ax=ax)\n",
    "    ax.set_box_aspect(data_aspect)\n",
    "    plt.show()\n",
    "    save_as_plyfile(lms, pwc2.simplices[1], pwc2.simplices[2], filenamebase + '_' + eps_str + '_after_patching_level_' + str(p))"
   ]
  },
  {
   "cell_type": "markdown",
   "id": "6820f296",
   "metadata": {
    "pycharm": {
     "name": "#%% md\n"
    }
   },
   "source": [
    "# KLEIN BOTTLE"
   ]
  },
  {
   "cell_type": "code",
   "execution_count": null,
   "id": "6b780545",
   "metadata": {
    "pycharm": {
     "name": "#%%\n"
    }
   },
   "outputs": [],
   "source": [
    "def klein_bottle(n=2000):\n",
    "    \"\"\"\n",
    "    @param n:\n",
    "    \"\"\"\n",
    "    # parameters of the klein bottle\n",
    "    kr = 4.\n",
    "    kp = 6.\n",
    "    ke = 1. / 2.\n",
    "\n",
    "    data = {}\n",
    "    # print(sp, f_label(rot))\n",
    "#     tor = dy.torus_rotation_interval(n, steps=[[np.sqrt(2),np.sqrt(3)]], starting_point=[0.0,0.0]) * 2 * np.pi\n",
    "    sq = np.random.random((n, 2)) * 2 * np.pi\n",
    "#     print(sq)\n",
    "    data= sq\n",
    "    A = np.array([[1 / 4., 1 / 4., 1 / 4., 1 / 4.], \n",
    "                  [1 / 4., 1 / 4., 1 / 4., -1 / 4.],\n",
    "                  [1 / 4., 1 / 4., -1 / 4., -1 / 4.], \n",
    "                  [1 / 4., -1 / 4., -1 / 4., -1 / 4.]])\n",
    "    cos0d2 = np.cos(sq[:, 0] / 2.)\n",
    "    sin0d2 = np.sin(sq[:, 0] / 2.)\n",
    "    cos0 = np.cos(sq[:, 0])\n",
    "    sin0 = np.sin(sq[:, 0])\n",
    "    sin1 = np.sin(sq[:, 1])\n",
    "    cos1 = np.cos(sq[:, 1])\n",
    "    sin1m2 = np.sin(sq[:, 1] * 2.)\n",
    "    klein = np.array([kr * (cos0d2 * cos1 - sin0d2 * sin1m2),\n",
    "        kr * (sin0d2 * cos1 - cos0d2 * sin1m2),\n",
    "        kp * cos0 * (1 + ke * sin1),\n",
    "        kp * sin0 * (1 + ke * sin1)]).transpose().reshape((n, 4))\n",
    "    shifted_klein = np.dot(A, klein.transpose()).transpose()\n",
    "#     data[('klein', f_label(sp), f_label(rot[0]), f_label(rot[1]))] = shifted_klein\n",
    "#     for d in dims:\n",
    "#         emb = dy.embedding(shifted_klein[:, 0].reshape((n,)), d, delay)\n",
    "#         data[('emb', 0, d, f_label(sp), f_label(rot[0]), f_label(rot[1]))] = emb\n",
    "    return klein\n",
    "\n",
    "np.random.seed(0)\n",
    "pts = np.array(klein_bottle(10000))\n",
    "print(pts.shape)\n",
    "fig = plt.figure()\n",
    "ax = plt.subplot(111, projection='3d')\n",
    "ax.scatter(pts[:,0], pts[:,1], pts[:,2], s=0.5)"
   ]
  },
  {
   "cell_type": "code",
   "execution_count": null,
   "id": "bc7b5b5b",
   "metadata": {
    "pycharm": {
     "name": "#%%\n"
    }
   },
   "outputs": [],
   "source": [
    "np.random.seed(0)\n",
    "points = klein_bottle(20000)\n",
    "\n",
    "data_aspect = (np.ptp(points[:, 0]),np.ptp(points[:, 1]),np.ptp(points[:, 2]))\n",
    "eps = 1.\n",
    "EN = EpsilonNet(eps, 0)\n",
    "EN.fit(points)\n",
    "lms = EN.landmarks\n",
    "print(\"Number of points: \", len(points))\n",
    "print(\"Number of landmarks: \", len(lms))\n",
    "\n",
    "fwidth=12\n",
    "fig = plt.figure(figsize=(fwidth, fwidth*0.4))\n",
    "\n",
    "rows = 1\n",
    "cols = 2\n",
    "ax = plt.subplot(rows, cols, 1, projection='3d')\n",
    "# ax = fig.add_subplot(projection='3d')\n",
    "ax.scatter(points[:,0], points[:,1], points[:,2], s=1.5)\n",
    "ax.scatter(lms[:,0], lms[:,1], lms[:,2], s=10.)\n",
    "ax.set_box_aspect(data_aspect)\n",
    "\n",
    "ax = plt.subplot(rows, cols, 2, projection='3d')\n",
    "pwc = PatchedWitnessComplex(lms, eps, 2, points=points, patching=False, record_witnesses=True)\n",
    "pwc._dim = 3\n",
    "draw_complex(pwc, fig=fig, ax=ax, vlabels=True)\n",
    "[unprod_x, unprod_y,  unprod_z, unprod_t] = np.array([points[i, :] for i in pwc._unproductive_witnesses[2]]).T\n",
    "# ax.scatter(unprod_x, unprod_y, unprod_z, color='k', s = 0.5)\n",
    "ax.set_box_aspect(data_aspect)\n",
    "plt.show()\n",
    "print(\"Betti numbers before patching: \", pwc.betti_numbers)\n",
    "save_as_plyfile(lms, pwc.simplices[1], pwc.simplices[2], 'klein_before_patching')"
   ]
  },
  {
   "cell_type": "code",
   "execution_count": null,
   "id": "5c078b01",
   "metadata": {
    "pycharm": {
     "name": "#%%\n"
    }
   },
   "outputs": [],
   "source": [
    "#### PATCHING\n",
    "patching_levels = [1,2,3]\n",
    "\n",
    "fwidth = 12\n",
    "fig = plt.figure(figsize=(fwidth, fwidth * 1./(len(patching_levels))))\n",
    "rows = 1\n",
    "cols = len(patching_levels)\n",
    "# cols = int(np.ceil(len(patching_levels)/2))\n",
    "\n",
    "for ip, p in enumerate(patching_levels):\n",
    "    ax = plt.subplot(rows, cols, ip+1, projection='3d')\n",
    "    pwc2 = PatchedWitnessComplex(lms, eps, 3, points=points, patching=True, patching_level=p)\n",
    "    pwc2._dim = 3\n",
    "    print(\"Betti numbers at patching level \", p,  \": \", pwc2.betti_numbers)\n",
    "    draw_complex(pwc2, fig=fig, ax=ax)\n",
    "    ax.set_box_aspect(data_aspect)\n",
    "    plt.show()\n",
    "    save_as_plyfile(lms, pwc2.simplices[1], pwc2.simplices[2], 'klein_after_patching_level_' + str(p))"
   ]
  },
  {
   "cell_type": "markdown",
   "id": "5d8efc4e",
   "metadata": {
    "pycharm": {
     "name": "#%% md\n"
    }
   },
   "source": [
    "# STANFORD BUNNY"
   ]
  },
  {
   "cell_type": "code",
   "execution_count": null,
   "id": "9f48544e",
   "metadata": {
    "pycharm": {
     "name": "#%%\n"
    }
   },
   "outputs": [],
   "source": [
    "plydata = PlyData.read('models/bunny/reconstruction/bun_zipper.ply')\n",
    "px = plydata.elements[0].data['x']\n",
    "py = plydata.elements[0].data['y']\n",
    "pz = plydata.elements[0].data['z']\n",
    "points = np.transpose(np.array([px, py, pz]))\n",
    "points.shape"
   ]
  },
  {
   "cell_type": "code",
   "execution_count": null,
   "id": "e1a92739",
   "metadata": {
    "pycharm": {
     "name": "#%%\n"
    }
   },
   "outputs": [],
   "source": [
    "data_aspect = (np.ptp(points[:, 0]),np.ptp(points[:, 1]),np.ptp(points[:, 2]))\n",
    "eps = 0.01\n",
    "EN = EpsilonNet(eps, 0)\n",
    "EN.fit(points)\n",
    "lms = EN.landmarks\n",
    "print(\"Number of points: \", len(points))\n",
    "print(\"Number of landmarks: \", len(lms))\n",
    "\n",
    "fwidth = 12\n",
    "fig = plt.figure(figsize=(fwidth, fwidth*0.4))\n",
    "\n",
    "rows = 1\n",
    "cols = 2\n",
    "ax = plt.subplot(rows, cols, 1, projection='3d')\n",
    "# ax = fig.add_subplot(projection='3d')\n",
    "ax.scatter(points[:,0], points[:,1], points[:,2], s=1.5)\n",
    "ax.scatter(lms[:,0], lms[:,1], lms[:,2], s=10.)\n",
    "ax.set_box_aspect(data_aspect)\n",
    "\n",
    "ax = plt.subplot(rows, cols, 2, projection='3d')\n",
    "pwc = PatchedWitnessComplex(lms, points, 2, patching_level=4, max_patched_dimensions=2)\n",
    "\n",
    "# pwc._dim = 3\n",
    "draw_complex(pwc, fig=fig, ax=ax, vlabels=True)\n",
    "# [unprod_x, unprod_y,  unprod_z] = np.array([points[i, :] for i in pwc._unproductive_witnesses[2]]).T\n",
    "# ax.scatter(unprod_x, unprod_y, unprod_z, color='k', s = 0.5)\n",
    "ax.set_box_aspect(data_aspect)\n",
    "plt.show()\n",
    "# print(\"Betti numbers before patching: \", pwc.betti_numbers)\n",
    "# save_as_plyfile(lms, pwc.simplices[1], pwc.simplices[2], 'bunny_before_patching')"
   ]
  },
  {
   "cell_type": "code",
   "execution_count": null,
   "id": "9670ae14",
   "metadata": {
    "pycharm": {
     "name": "#%%\n"
    }
   },
   "outputs": [],
   "source": [
    "#### PATCHING\n",
    "patching_levels = [1,2,3]\n",
    "\n",
    "fwidth = 20\n",
    "fig = plt.figure(figsize=(fwidth, fwidth * 1./(len(patching_levels))))\n",
    "rows = 1\n",
    "cols = len(patching_levels)\n",
    "# cols = int(np.ceil(len(patching_levels)/2))\n",
    "\n",
    "for ip, p in enumerate(patching_levels):\n",
    "    ax = plt.subplot(rows, cols, ip+1, projection='3d')\n",
    "    pwc2 = PatchedWitnessComplex(lms, eps, 3, points=points, patching=True, patching_level=p)\n",
    "    pwc2._dim = 3\n",
    "    print(\"Betti numbers at patching level \", p,  \": \", pwc2.betti_numbers)\n",
    "    draw_complex(pwc2, fig=fig, ax=ax)\n",
    "    ax.set_box_aspect(data_aspect)\n",
    "    plt.show()\n",
    "    save_as_plyfile(lms, pwc2.simplices[1], pwc2.simplices[2], 'bunny_after_patching_level_' + str(p))"
   ]
  },
  {
   "cell_type": "markdown",
   "id": "520d8d02",
   "metadata": {
    "pycharm": {
     "name": "#%% md\n"
    }
   },
   "source": [
    "# STANFORD ARMADILLO"
   ]
  },
  {
   "cell_type": "code",
   "execution_count": null,
   "id": "1ffc896d",
   "metadata": {
    "pycharm": {
     "name": "#%%\n"
    }
   },
   "outputs": [],
   "source": [
    "plydata = PlyData.read('models/armadillo/Armadillo.ply')\n",
    "px = plydata.elements[0].data['x']\n",
    "py = plydata.elements[0].data['y']\n",
    "pz = plydata.elements[0].data['z']\n",
    "points = np.transpose(np.array([px, py, pz]))\n",
    "points.shape"
   ]
  },
  {
   "cell_type": "code",
   "execution_count": null,
   "id": "fa49bfbd",
   "metadata": {
    "pycharm": {
     "name": "#%%\n"
    }
   },
   "outputs": [],
   "source": [
    "data_aspect = (np.ptp(points[:, 0]),np.ptp(points[:, 1]),np.ptp(points[:, 2]))\n",
    "print(data_aspect)\n",
    "eps = 5.5\n",
    "EN = EpsilonNet(eps, 0)\n",
    "EN.fit(points)\n",
    "lms = EN.landmarks\n",
    "print(\"Number of points: \", len(points))\n",
    "print(\"Number of landmarks: \", len(lms))"
   ]
  },
  {
   "cell_type": "code",
   "execution_count": null,
   "id": "3d780f1b",
   "metadata": {
    "pycharm": {
     "name": "#%%\n"
    }
   },
   "outputs": [],
   "source": [
    "model_name = 'armadillo_5.5'"
   ]
  },
  {
   "cell_type": "code",
   "execution_count": null,
   "id": "27efa587",
   "metadata": {
    "pycharm": {
     "name": "#%%\n"
    }
   },
   "outputs": [],
   "source": [
    "fwidth = 12\n",
    "fig = plt.figure(figsize=(fwidth, fwidth*0.4))\n",
    "\n",
    "rows = 1\n",
    "cols = 2\n",
    "ax = plt.subplot(rows, cols, 1, projection='3d')\n",
    "# ax = fig.add_subplot(projection='3d')\n",
    "ax.scatter(points[:,0], points[:,1], points[:,2], s=.01)\n",
    "ax.scatter(lms[:,0], lms[:,1], lms[:,2], s=5.)\n",
    "ax.set_box_aspect(data_aspect)"
   ]
  },
  {
   "cell_type": "code",
   "execution_count": null,
   "id": "46178f2a",
   "metadata": {
    "pycharm": {
     "name": "#%%\n"
    }
   },
   "outputs": [],
   "source": [
    "ax = plt.subplot(rows, cols, 2, projection='3d')\n",
    "pwc = PatchedWitnessComplex(lms, eps, 2, points=points, patching=False, record_witnesses=True)\n",
    "pwc._dim = 3\n",
    "draw_complex(pwc, fig=fig, ax=ax, vlabels=True)\n",
    "[unprod_x, unprod_y,  unprod_z] = np.array([points[i, :] for i in pwc._unproductive_witnesses[2]]).T\n",
    "# ax.scatter(unprod_x, unprod_y, unprod_z, color='k', s = 0.5)\n",
    "ax.set_box_aspect(data_aspect)\n",
    "plt.show()\n",
    "print(\"Betti numbers before patching: \", pwc.betti_numbers)\n",
    "save_as_plyfile(lms, pwc.simplices[1], pwc.simplices[2], model_name + '_before_patching')"
   ]
  },
  {
   "cell_type": "code",
   "execution_count": null,
   "id": "5d720cea",
   "metadata": {
    "pycharm": {
     "name": "#%%\n"
    }
   },
   "outputs": [],
   "source": [
    "#### PATCHING\n",
    "patching_levels = [1,2,3]\n",
    "\n",
    "fwidth = 20\n",
    "fig = plt.figure(figsize=(fwidth, fwidth * 1./(len(patching_levels))))\n",
    "rows = 1\n",
    "cols = len(patching_levels)\n",
    "# cols = int(np.ceil(len(patching_levels)/2))\n",
    "\n",
    "for ip, p in enumerate(patching_levels):\n",
    "    ax = plt.subplot(rows, cols, ip+1, projection='3d')\n",
    "    pwc2 = PatchedWitnessComplex(lms, eps, 2, points=points, patching=True, patching_level=p)\n",
    "    pwc2._dim = 3\n",
    "    print(\"Betti numbers at patching level \", p,  \": \", pwc2.betti_numbers)\n",
    "    draw_complex(pwc2, fig=fig, ax=ax)\n",
    "    ax.set_box_aspect(data_aspect)\n",
    "    plt.show()\n",
    "    save_as_plyfile(lms, pwc2.simplices[1], pwc2.simplices[2], model_name + '_after_patching_level_' + str(p))"
   ]
  },
  {
   "cell_type": "code",
   "execution_count": null,
   "id": "0de935e3",
   "metadata": {
    "pycharm": {
     "name": "#%%\n"
    }
   },
   "outputs": [],
   "source": []
  }
 ],
 "metadata": {
  "kernelspec": {
   "display_name": "Python 3 (ipykernel)",
   "language": "python",
   "name": "python3"
  },
  "language_info": {
   "codemirror_mode": {
    "name": "ipython",
    "version": 3
   },
   "file_extension": ".py",
   "mimetype": "text/x-python",
   "name": "python",
   "nbconvert_exporter": "python",
   "pygments_lexer": "ipython3",
   "version": "3.9.13"
  }
 },
 "nbformat": 4,
 "nbformat_minor": 5
}

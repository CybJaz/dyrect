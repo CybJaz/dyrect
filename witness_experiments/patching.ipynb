{
 "cells": [
  {
   "cell_type": "code",
   "execution_count": null,
   "id": "da4b91b2",
   "metadata": {
    "pycharm": {
     "name": "#%%\n"
    }
   },
   "outputs": [],
   "source": [
    "%matplotlib notebook\n",
    "from IPython.display import display, HTML\n",
    "display(HTML(\"<style>.container { width:100% !important; }</style>\"))\n",
    "\n",
    "from itertools import chain, combinations\n",
    "import matplotlib.pyplot as plt\n",
    "import numpy as np\n",
    "import functools\n",
    "\n",
    "import sys\n",
    "sys.path.append('../')\n",
    "from dyrect import Poset, Complex, draw_complex"
   ]
  },
  {
   "cell_type": "code",
   "execution_count": null,
   "id": "24f8c135",
   "metadata": {
    "pycharm": {
     "name": "#%%\n"
    }
   },
   "outputs": [],
   "source": [
    "def powerset(iterable):\n",
    "    \"powerset([1,2,3]) --> () (1,) (2,) (3,) (1,2) (1,3) (2,3) (1,2,3)\"\n",
    "    s = list(iterable)\n",
    "    return chain.from_iterable(combinations(s, r) for r in range(1, len(s)+1))"
   ]
  },
  {
   "cell_type": "code",
   "execution_count": null,
   "id": "894ef197",
   "metadata": {
    "pycharm": {
     "name": "#%%\n"
    }
   },
   "outputs": [],
   "source": [
    "### Create a poset representing (n-1)-simplex\n",
    "n = 6\n",
    "sims = list(powerset(range(n)))\n",
    "\n",
    "nsims = len(sims)\n",
    "bmat = np.zeros((nsims, nsims))\n",
    "\n",
    "### hash maps:\n",
    "## simplex index to simplex (i.e., collection of vertices)\n",
    "idx2sim = dict()\n",
    "## simplex its index\n",
    "sim2idx = dict()\n",
    "\n",
    "for i, s in enumerate(sims):\n",
    "    sim2idx[s] = i\n",
    "    idx2sim[i] = s\n",
    "    \n",
    "    if len(s) == 1:\n",
    "        continue\n",
    "    for face in combinations(s, len(s)-1):\n",
    "#         print(s, face)\n",
    "        bmat[i, sim2idx[face]] = 1\n",
    "poset = Poset.from_dag(bmat)"
   ]
  },
  {
   "cell_type": "code",
   "execution_count": null,
   "id": "c3555733",
   "metadata": {
    "pycharm": {
     "name": "#%%\n"
    }
   },
   "outputs": [],
   "source": []
  },
  {
   "cell_type": "code",
   "execution_count": null,
   "id": "917a9a8f",
   "metadata": {
    "pycharm": {
     "name": "#%%\n"
    }
   },
   "outputs": [],
   "source": []
  },
  {
   "cell_type": "code",
   "execution_count": null,
   "id": "0971e0d8",
   "metadata": {
    "pycharm": {
     "name": "#%%\n"
    }
   },
   "outputs": [],
   "source": [
    "### Coordinates for the cycle we will patch later, there should be at least n points in the list\n",
    "verts = np.array([[0.0, 0.0], [1.0, 0.0], [1.0, 1.0], [0.8, 0.2], [0.5, 0.2], [0.45, 0.31]])\n",
    "# verts = np.array([[0.0, 0.0, 0.0], [1.0, 0.0, 0.0], [1.0, 1.0, .2], [0.8, 0.2, 0.8], [0.5, 0.2, 0.6], [0.2, 0.75, 0.4], [0.25, 0.4, 0.2]])\n",
    "# verts = np.array([[0.0, 0.0], [1.0, 0.0], [0.0, 0.5], [0.25, 0.3], [0.45, 0.2], [0.2, 0.75]])\n",
    "\n",
    "### hash maps:\n",
    "## simplex index to its diameter\n",
    "idx2diam = dict()\n",
    "## simplex index to the sorted list of diameters of the simplex edges\n",
    "idx2edges = dict()\n",
    "for i in range(nsims):\n",
    "    if len(idx2sim[i]) < 2:\n",
    "        idx2diam[i] = 0\n",
    "        idx2edges[i] = [0]\n",
    "    elif len(idx2sim[i]) == 2:\n",
    "        edge = idx2sim[i]\n",
    "        idx2diam[i] = np.linalg.norm(verts[edge[0]]-verts[edge[1]])\n",
    "        idx2edges[i] = [idx2diam[i]]\n",
    "    else:\n",
    "        mouth = poset.mouth([i])\n",
    "        idx2diam[i] = max([idx2diam[s] for s in mouth])\n",
    "        simplex = idx2sim[i]\n",
    "        idx2edges[i] = sorted([idx2diam[sim2idx[s]] for s in combinations(simplex, 2)], reverse=True)\n"
   ]
  },
  {
   "cell_type": "code",
   "execution_count": null,
   "id": "119fc213",
   "metadata": {
    "pycharm": {
     "name": "#%%\n"
    }
   },
   "outputs": [],
   "source": [
    "def diamcheck(x, y):\n",
    "    \"\"\" given indices of two simplices x and y, check which:\n",
    "        1) has higher dimension\n",
    "        2) has longer edges\n",
    "    \"\"\"\n",
    "    dx = idx2edges[x]\n",
    "    dy = idx2edges[y]\n",
    "    if len(dx) > len(dy):\n",
    "        return 1\n",
    "    elif len(dx) < len(dy):\n",
    "        return -1\n",
    "    else:\n",
    "        for i in range(len(dx)):\n",
    "            if dx[i] > dy[i]:\n",
    "                return 1\n",
    "            elif dx[i] < dy[i]:\n",
    "                return -1\n",
    "    return 0"
   ]
  },
  {
   "cell_type": "code",
   "execution_count": null,
   "id": "687abc2d",
   "metadata": {
    "scrolled": false,
    "pycharm": {
     "name": "#%%\n"
    }
   },
   "outputs": [],
   "source": [
    "### Reduction algorithm\n",
    "\n",
    "### sequence of edges, i.e. initial cycle to be patched\n",
    "cedges = [(i-1, i) for i in range(1, n)] + [(0, n-1)]\n",
    "\n",
    "### above cycle, but as a subcomplex, i.e. set of indices of edges plus vertices\n",
    "cycle = set(range(n)).union(set([sim2idx[i] for i in cedges]))\n",
    "\n",
    "### filling of the circle to be constructed\n",
    "filling = set(range(nsims)).difference(cycle)\n",
    "print(cycle)\n",
    "\n",
    "while True:\n",
    "    old_filling = filling\n",
    "\n",
    "    ### sorting of simplices for reduction with respect to:\n",
    "    ## #1 method diamcheck\n",
    "    sim_queue = sorted(list(filling), key=functools.cmp_to_key(diamcheck), reverse=True)\n",
    "    ## #2 diameter of a simplex\n",
    "#     sim_queue = sorted(list(filling), key=lambda x: idx2diam[x], reverse=True)\n",
    "    ## #3 without sorting\n",
    "#     sim_queue = reversed(list(filling))\n",
    "#     print(sim_queue)\n",
    "    for i in sim_queue:\n",
    "        up = (poset.above(i)).intersection(filling)\n",
    "        if len(up) == 2:\n",
    "            filling = filling.difference(up)\n",
    "#             print(i, up, [idx2sim[x] for x in up], filling)\n",
    "            break\n",
    "    if old_filling == filling:\n",
    "        print(True)\n",
    "        break\n",
    "#     break\n",
    "\n",
    "    "
   ]
  },
  {
   "cell_type": "code",
   "execution_count": null,
   "id": "98669401",
   "metadata": {
    "scrolled": false,
    "pycharm": {
     "name": "#%%\n"
    }
   },
   "outputs": [],
   "source": [
    "space_dimension = 2\n",
    "\n",
    "patch = [idx2sim[i] for i in filling.union(cycle)]\n",
    "cpatch = [idx2sim[i] for i in cycle]\n",
    "pcomp = {0:[], 1:[], 2:[]}\n",
    "cycomp = {0:[], 1:[], 2:[]}\n",
    "for p in patch:\n",
    "    pcomp[len(p)-1].append(p)\n",
    "for p in cpatch:\n",
    "    cycomp[len(p)-1].append(p)\n",
    "    \n",
    "print(pcomp)\n",
    "# verts = np.array([[0.0, 0.0], [1.0, 0.0], [1.0, 1.0], [0.8, 0.5], [0.6, 0.2], [0.7, 0.75]])\n",
    "comp = Complex.construct(pcomp, verts, max_dim=2)\n",
    "comp2 = Complex.construct(cycomp, verts, max_dim=2)\n",
    "# print(comp.coordinates)\n",
    "draw_complex(comp, dim=space_dimension)\n",
    "draw_complex(comp2, dim=space_dimension)"
   ]
  },
  {
   "cell_type": "markdown",
   "id": "c76ba198",
   "metadata": {
    "pycharm": {
     "name": "#%% md\n"
    }
   },
   "source": [
    "#### PATCHING 1.5"
   ]
  },
  {
   "cell_type": "code",
   "execution_count": null,
   "id": "fb901d46",
   "metadata": {
    "pycharm": {
     "name": "#%%\n"
    }
   },
   "outputs": [],
   "source": [
    "### Poset creation\n",
    "\n",
    "# simplex = [1,2,5,9,12]\n",
    "simplex = [1,2,5,9]\n",
    "def simplex_poset(simplex):\n",
    "    list(powerset(simplex))\n",
    "    i2s = { i: s for i,s in enumerate(powerset(simplex))}\n",
    "    s2i = { s: i for i,s in enumerate(powerset(simplex))}\n",
    "#     print(s2i)\n",
    "    poset = Poset(len(i2s))\n",
    "    for s in s2i:\n",
    "        if len(s) == 1:\n",
    "            continue\n",
    "        for bs in combinations(s, len(s)-1):\n",
    "            poset.add_relation(s2i[bs], s2i[s])\n",
    "    return poset, i2s, s2i\n",
    "#     print([i2s[x] for x in poset.mouth([16])])\n",
    "\n",
    "def patch_poset(simplex, boundary):\n",
    "    patch = set(powerset(simplex))\n",
    "    bd = set(chain.from_iterable([powerset(s) for s in boundary]))\n",
    "    print(list(bd))\n",
    "    print(patch)\n",
    "    print(patch.difference(bd))\n",
    "    patch = patch.difference(bd)\n",
    "    i2s = { i: s for i,s in enumerate(patch)}\n",
    "    s2i = { s: i for i,s in enumerate(patch)}\n",
    "    print(i2s)\n",
    "    poset = Poset(len(i2s))\n",
    "    for s in s2i:\n",
    "        if len(s) == 1:\n",
    "            continue\n",
    "        for bs in combinations(s, len(s)-1):\n",
    "            if bs in patch:\n",
    "                poset.add_relation(s2i[bs], s2i[s])\n",
    "    return poset, i2s, s2i\n",
    "\n",
    "poset, i2s, s2i = patch_poset(simplex, [(1,2), (1,5,9)])\n",
    "print([i2s[x] for x in poset.mouth([5])])\n",
    "list(i2s.keys())"
   ]
  },
  {
   "cell_type": "code",
   "execution_count": null,
   "id": "4795c2f6",
   "metadata": {
    "pycharm": {
     "name": "#%%\n"
    }
   },
   "outputs": [],
   "source": [
    "def patching(simplex, boundary, verts):\n",
    "    poset, i2s, s2i = patch_poset(simplex, boundary)\n",
    "    \n",
    "    i2diams = dict()\n",
    "    for i in i2s.keys():\n",
    "        i2diams[i] = []\n",
    "        for e in combinations(i2s[i], 2):\n",
    "            i2diams[i].append(np.linalg.norm(verts[e[0]]-verts[e[1]]))\n",
    "        i2diams[i].sort(reverse=True)\n",
    "    print(i2diams)\n",
    "    \n",
    "    def diamcheck(x, y):\n",
    "        \"\"\" given indices of two simplices x and y, check which:\n",
    "            1) has higher dimension\n",
    "            2) has longer edges\n",
    "        \"\"\"\n",
    "        dx = i2diams[x]\n",
    "        dy = i2diams[y]\n",
    "        if len(dx) > len(dy):\n",
    "            return 1\n",
    "        elif len(dx) < len(dy):\n",
    "            return -1\n",
    "        else:\n",
    "            for i in range(len(dx)):\n",
    "                if dx[i] > dy[i]:\n",
    "                    return 1\n",
    "                elif dx[i] < dy[i]:\n",
    "                    return -1\n",
    "        return 0\n",
    "    \n",
    "    filling = set(range(len(i2s)))\n",
    "#     it = 0\n",
    "    while True:\n",
    "        old_filling = filling\n",
    "        ### sorting of simplices for reduction with respect to:\n",
    "        ## #1 method diamcheck\n",
    "        sim_queue = sorted(list(filling), key=functools.cmp_to_key(diamcheck), reverse=True)\n",
    "        ## #2 without sorting\n",
    "#         sim_queue = filling\n",
    "    #     print(sim_queue)    \n",
    "        for i in sim_queue:\n",
    "            up = (poset.above(i)).intersection(filling)\n",
    "#             it += 1\n",
    "            if len(up) == 2:\n",
    "                filling = filling.difference(up)\n",
    "#                 print([[i2s[s] for s in up]])\n",
    "            #### This break makes it slightly faster for small cases but \n",
    "            #### introduces more computations with bigger holes (check 'it' counter)\n",
    "            #### but without the break the order might be altered\n",
    "#                 break\n",
    "\n",
    "        if old_filling == filling:\n",
    "            print(True)\n",
    "            break\n",
    "#     print(it)\n",
    "    return [i2s[s] for s in filling]\n",
    "\n",
    "verts = np.array([[0.0, 0.0], [1.0, 0.0], [1.0, 1.0], [0.8, 0.2], [0.5, 0.2], [0.25, 0.31]])\n",
    "simplex = [0,1, 2,4,5]\n",
    "bdry = [(0,1), (1,2), (0,5), (2, 4), (4, 5)]\n",
    "fill = patching(simplex, bdry, verts)"
   ]
  },
  {
   "cell_type": "code",
   "execution_count": null,
   "id": "3f63cf2d",
   "metadata": {
    "scrolled": false,
    "pycharm": {
     "name": "#%%\n"
    }
   },
   "outputs": [],
   "source": [
    "space_dimension = 2\n",
    "import copy\n",
    "\n",
    "# patch = [idx2sim[i] for i in filling.union(cycle)]\n",
    "# pcomp = {0:[], 1:[], 2:[]}\n",
    "# for p in patch:\n",
    "#     pcomp[len(p)-1].append(p)\n",
    "cycomp = {0:[], 1:[], 2:[]}\n",
    "for p in bdry:\n",
    "    for d in range(1, len(p)+1):\n",
    "        for s in combinations(p, d):\n",
    "            cycomp[d-1].append(s)\n",
    "pcomp = copy.deepcopy(cycomp)\n",
    "for p in fill:\n",
    "    pcomp[len(p)-1].append(p)\n",
    "    \n",
    "print(cycomp)\n",
    "# verts = np.array([[0.0, 0.0], [1.0, 0.0], [1.0, 1.0], [0.8, 0.5], [0.6, 0.2], [0.7, 0.75]])\n",
    "comp = Complex.construct(pcomp, verts, max_dim=2)\n",
    "comp2 = Complex.construct(cycomp, verts, max_dim=2)\n",
    "print(comp2._simplices)\n",
    "# print(comp.coordinates)\n",
    "fig = plt.figure(figsize=(10,5))\n",
    "ax = plt.subplot(1, 2, 1)\n",
    "draw_complex(comp, dim=space_dimension, ax=ax, fig=fig)\n",
    "ax = plt.subplot(1, 2, 2)\n",
    "draw_complex(comp2, dim=space_dimension, ax=ax, fig=fig)"
   ]
  },
  {
   "cell_type": "markdown",
   "id": "633c89d9",
   "metadata": {
    "pycharm": {
     "name": "#%% md\n"
    }
   },
   "source": [
    "## Patching 2"
   ]
  },
  {
   "cell_type": "code",
   "execution_count": null,
   "id": "34911ab5",
   "metadata": {
    "pycharm": {
     "name": "#%%\n"
    }
   },
   "outputs": [],
   "source": [
    "### this is unfinished\n",
    "\n",
    "cverts = set(range(0, n))\n",
    "cedges = [(i-1, i) for i in range(1, n)] + [(0, n-1)]\n",
    "# print([sim2idx[i] for i in cedges])\n",
    "cycle = set(range(n)).union(set([sim2idx[i] for i in cedges]))\n",
    "filling = list(cycle)\n",
    "\n",
    "print(cedges, filling)\n",
    "ncverts = cverts\n",
    "nedges = cedges\n",
    "\n",
    "min_edge = np.infty\n",
    "new_edge = -1\n",
    "for e in set(combinations(ncverts, 2)).difference(set(nedges)):\n",
    "#     print(e, idx2diam[sim2idx[e]])\n",
    "    if idx2diam[sim2idx[e]] < min_edge:\n",
    "        neighs0 = [set(ce) for ce in nedges if e[0] in ce]\n",
    "        neighs1 = [set(ce) for ce in nedges if e[1] in ce]\n",
    "        nn = (set.union(*neighs0)).intersection(set.union(*neighs1))\n",
    "        if len(nn) > 0:\n",
    "            min_edge = idx2diam[sim2idx[e]]\n",
    "            new_edge = e\n",
    "        print(e, neighs0, neighs1, nn)\n",
    "print(new_edge)\n",
    "ncverts = ncverts.difference(nn)\n",
    "nedges = nedges + [new_edge]\n",
    "print(ncverts, nedges)\n",
    "[sim2idx[tuple(nn)], sim2idx[new_edge], sim2idx[tuple(sorted(list(nn) + list(new_edge)))]]\n",
    "filling = filling +[sim2idx[new_edge], sim2idx[tuple(sorted(list(nn) + list(new_edge)))]]\n",
    "filling"
   ]
  },
  {
   "cell_type": "code",
   "execution_count": null,
   "id": "4c82a9cf",
   "metadata": {
    "pycharm": {
     "name": "#%%\n"
    }
   },
   "outputs": [],
   "source": []
  }
 ],
 "metadata": {
  "kernelspec": {
   "display_name": "Python 3 (ipykernel)",
   "language": "python",
   "name": "python3"
  },
  "language_info": {
   "codemirror_mode": {
    "name": "ipython",
    "version": 3
   },
   "file_extension": ".py",
   "mimetype": "text/x-python",
   "name": "python",
   "nbconvert_exporter": "python",
   "pygments_lexer": "ipython3",
   "version": "3.9.13"
  }
 },
 "nbformat": 4,
 "nbformat_minor": 5
}
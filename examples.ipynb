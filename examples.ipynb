{
 "cells": [
  {
   "cell_type": "code",
   "execution_count": null,
   "metadata": {
    "pycharm": {
     "name": "#%%\n"
    }
   },
   "outputs": [],
   "source": [
    "%matplotlib notebook\n",
    "import numpy as np\n",
    "\n",
    "import dyrect as dy\n",
    "from dyrect.data_generators import lemniscate, lorenz_attractor\n",
    "from dyrect.drawing import *\n",
    "\n",
    "import matplotlib.pyplot as plt\n",
    "import matplotlib as mpl\n",
    "import networkx as nx\n",
    "import random\n",
    "from IPython.core.display import display, HTML\n",
    "display(HTML(\"<style>.container { width:100% !important; }</style>\"))\n"
   ]
  },
  {
   "cell_type": "code",
   "execution_count": null,
   "metadata": {
    "pycharm": {
     "name": "#%%\n"
    },
    "scrolled": false
   },
   "outputs": [],
   "source": [
    "points = lemniscate(2000, scale=2., step=0.26, noise=0.15)\n",
    "\n",
    "eps=0.5\n",
    "EN = dy.EpsilonNet(eps, 0)\n",
    "dists = EN.fit(points)\n",
    "lms = EN.landmarks\n",
    "print(lms.shape)\n",
    "\n",
    "fig = plt.figure(figsize=(10, 8))\n",
    "ax = fig.add_subplot()\n",
    "plt.scatter(points[:,0],points[:,1], s=0.5)\n",
    "plt.xlim((-3.4,3.4))\n",
    "plt.ylim((-1.75,1.75))\n",
    "plt.savefig('ball_mapper_1.pdf', format='pdf')\n",
    "# plt.scatter(lms[:,0],lms[:,1], s=21.9)\n",
    "\n",
    "fig = plt.figure(figsize=(10, 8))\n",
    "ax = fig.add_subplot()\n",
    "plt.scatter(points[:,0],points[:,1], s=0.5)\n",
    "plt.scatter(lms[:,0],lms[:,1], s=21.9)\n",
    "\n",
    "for lm in lms:\n",
    "    crc = plt.Circle(lm, eps, color='r', alpha=0.1)\n",
    "    ax.add_patch(crc)\n",
    "plt.xlim((-3.4,3.4))\n",
    "plt.ylim((-1.75,1.75))\n",
    "plt.savefig('ball_mapper_2.pdf', format='pdf')\n",
    "\n",
    "complex = dy.NerveComplex(lms, eps, 2, points)\n",
    "dy.draw_complex(complex)\n",
    "plt.xlim((-3.4,3.4))\n",
    "plt.ylim((-1.75,1.75))\n",
    "plt.savefig('ball_mapper_3.pdf', format='pdf')"
   ]
  },
  {
   "cell_type": "code",
   "execution_count": null,
   "metadata": {
    "pycharm": {
     "name": "#%%\n"
    }
   },
   "outputs": [],
   "source": [
    "fig = plt.figure(figsize=(10,8))\n",
    "complex = dy.NerveComplex(lms, eps, 2, points)\n",
    "dy.draw_complex(complex, circles=False)\n",
    "plt.xlim((-3.4,3.4))\n",
    "plt.ylim((-1.75,1.75))\n",
    "plt.savefig('ball_mapper_4.pdf', format='pdf')"
   ]
  },
  {
   "cell_type": "code",
   "execution_count": null,
   "metadata": {
    "pycharm": {
     "name": "#%%\n"
    }
   },
   "outputs": [],
   "source": [
    "TM = dy.TransitionMatrix(lms, eps)\n",
    "transitions = TM.fit(points)\n",
    "prob_matrix = dy.trans2prob(transitions)"
   ]
  },
  {
   "cell_type": "code",
   "execution_count": null,
   "metadata": {
    "pycharm": {
     "name": "#%%\n"
    },
    "scrolled": false
   },
   "outputs": [],
   "source": [
    "# Questions: \n",
    "# how to count transitions? if point is in the intersection of balls, should it contribute to both? \n",
    "# if it maps to the the intersection, it should be counted twice? it may create fake backward loops\n",
    "draw_transition_graph(prob_matrix, lms, threshold=0.15)\n",
    "plt.show()"
   ]
  },
  {
   "cell_type": "code",
   "execution_count": null,
   "metadata": {
    "pycharm": {
     "name": "#%%\n"
    },
    "scrolled": false
   },
   "outputs": [],
   "source": [
    "points = lorenz_attractor(10000, step=0.01, adaptive_step=True)\n",
    "fig = plt.figure(figsize=(10,8))\n",
    "ax = fig.add_subplot(projection='3d')\n",
    "ax.scatter(points[:, 0], points[:, 1], points[:, 2], s=0.2)\n",
    "fig.savefig('lorenz_3d.png', format='png')"
   ]
  },
  {
   "cell_type": "code",
   "execution_count": null,
   "metadata": {
    "pycharm": {
     "name": "#%%\n"
    },
    "scrolled": true
   },
   "outputs": [],
   "source": [
    "emb_lorenz = dy.embedding(points[:,0], 3, 2)\n",
    "\n",
    "fig = plt.figure(figsize=(10,8))\n",
    "plt.plot(points[:2000,0])\n",
    "# fig.savefig('lorenz_z.pds', format='pdf')\n",
    "\n",
    "fig = plt.figure(figsize=(10,8))\n",
    "ax = fig.add_subplot(projection='3d')\n",
    "ax.scatter(emb_lorenz[:,0], emb_lorenz[:,1], emb_lorenz[:,2], s=0.2)\n",
    "# fig.savefig('lorenz_emb_z.pds', format='pdf')"
   ]
  },
  {
   "cell_type": "code",
   "execution_count": null,
   "metadata": {
    "pycharm": {
     "name": "#%%\n"
    }
   },
   "outputs": [],
   "source": [
    "eps=2.\n",
    "EN = dy.EpsilonNet(eps, 0)\n",
    "EN.fit(emb_lorenz)\n",
    "lms = EN.landmarks\n",
    "print(lms.shape)\n",
    "\n",
    "fig = plt.figure()\n",
    "ax = fig.add_subplot(projection='3d')\n",
    "ax.scatter(emb_lorenz[:,0], emb_lorenz[:,1], emb_lorenz[:,2], s=0.2)\n",
    "ax.scatter(lms[:,0], lms[:,1], lms[:,2], s=5.2)"
   ]
  },
  {
   "cell_type": "code",
   "execution_count": null,
   "metadata": {
    "pycharm": {
     "name": "#%%\n"
    },
    "scrolled": false
   },
   "outputs": [],
   "source": [
    "fig = plt.figure(figsize=(10,8))\n",
    "ax = fig.add_subplot()\n",
    "plt.scatter(emb_lorenz[:,0], emb_lorenz[:,1], s=0.2)\n",
    "plt.scatter(lms[:,0], lms[:,1], s=5.2)\n",
    "\n",
    "for lm in lms:\n",
    "    crc = plt.Circle(lm, eps, color='r', alpha=0.05)\n",
    "    ax.add_patch(crc)\n",
    "fig.savefig('lorenz_emb_ballz.pdf', format='pdf')"
   ]
  },
  {
   "cell_type": "code",
   "execution_count": null,
   "metadata": {
    "pycharm": {
     "name": "#%%\n"
    },
    "scrolled": true
   },
   "outputs": [],
   "source": [
    "TM = dy.TransitionMatrix(lms, eps)\n",
    "transitions = TM.fit(emb_lorenz)\n",
    "prob_matrix = dy.trans2prob(transitions)\n",
    "\n",
    "# Questions: \n",
    "# how to count transitions? if point is in the intersection of balls, should it contribute to both? \n",
    "# if it maps to the the intersection, it should be counted twice? it may create fake backward loops\n",
    "draw_transition_graph(prob_matrix, lms, threshold=0.2, node_size=10, edge_size=8)\n",
    "plt.show()\n",
    "plt.savefig('lorenz_emb_graph.pdf', format='pdf')"
   ]
  },
  {
   "cell_type": "markdown",
   "metadata": {
    "pycharm": {
     "name": "#%% md\n"
    }
   },
   "source": [
    "## Future prediction"
   ]
  },
  {
   "cell_type": "code",
   "execution_count": null,
   "metadata": {
    "pycharm": {
     "name": "#%%\n"
    },
    "scrolled": false
   },
   "outputs": [],
   "source": [
    "np.random.seed(0)\n",
    "random.seed(0)\n",
    "\n",
    "train_points = lorenz_attractor(200000, step=0.01, adaptive_step=False, starting_point=[1.,1.,1.])\n",
    "test_points = lorenz_attractor(5000, step=0.01, adaptive_step=False, starting_point=[-1.,-1.,1.])\n",
    "\n",
    "eps=3.2\n",
    "EN = dy.EpsilonNet(eps, 0)\n",
    "dists = EN.fit(train_points)\n",
    "lms = EN.landmarks\n",
    "print(lms.shape)\n",
    "\n",
    "fig = plt.figure()\n",
    "ax = fig.add_subplot(projection='3d')\n",
    "ax.scatter(train_points[:,0], train_points[:,1], train_points[:,2], s=0.2)\n",
    "ax.scatter(lms[:,0], lms[:,1], lms[:,2], s=7.2)"
   ]
  },
  {
   "cell_type": "code",
   "execution_count": null,
   "metadata": {
    "pycharm": {
     "name": "#%%\n"
    }
   },
   "outputs": [],
   "source": [
    "seer = dy.Seer(train_points, lms, eps)\n",
    "nc = dy.NerveComplex(lms, eps, 3, train_points)"
   ]
  },
  {
   "cell_type": "code",
   "execution_count": null,
   "metadata": {
    "pycharm": {
     "name": "#%%\n"
    },
    "scrolled": false
   },
   "outputs": [],
   "source": [
    "# t0 = 1230\n",
    "t0 = 1700\n",
    "t1 = t0 + 15\n",
    "tpredict = 200\n",
    "# t0 = 3960\n",
    "# t1 = t0 + 15\n",
    "# tpredict = 150\n",
    "# t0 = 1993\n",
    "# t1 = t0 + 10\n",
    "# tpredict = 140\n",
    "prediction = seer.predict(test_points[t0:t1], tpredict)\n",
    "\n",
    "seer.draw_prediction()\n",
    "seer.draw_hom_grouped_prediction(nc, steps=[60, tpredict-1], prediction=prediction)"
   ]
  },
  {
   "cell_type": "markdown",
   "metadata": {
    "pycharm": {
     "name": "#%% md\n"
    }
   },
   "source": [
    "## Future prediction 2D"
   ]
  },
  {
   "cell_type": "code",
   "execution_count": null,
   "metadata": {
    "pycharm": {
     "name": "#%%\n"
    }
   },
   "outputs": [],
   "source": [
    "%matplotlib notebook\n",
    "import numpy as np\n",
    "\n",
    "import dyrect as dy\n",
    "from dyrect.data_generators import lemniscate, lorenz_attractor\n",
    "from dyrect.drawing import *\n",
    "\n",
    "import matplotlib.pyplot as plt\n",
    "import matplotlib as mpl\n",
    "import networkx as nx\n",
    "import random\n",
    "from IPython.core.display import display, HTML\n",
    "display(HTML(\"<style>.container { width:100% !important; }</style>\"))\n"
   ]
  },
  {
   "cell_type": "code",
   "execution_count": null,
   "metadata": {
    "pycharm": {
     "name": "#%%\n"
    }
   },
   "outputs": [],
   "source": [
    "np.random.seed(0)\n",
    "random.seed(0)\n",
    "\n",
    "train_points = lorenz_attractor(200000, step=0.01, adaptive_step=False, starting_point=[1.,1.,1.])[:,:2]\n",
    "test_points = lorenz_attractor(5000, step=0.01, adaptive_step=False, starting_point=[-1.,-1.,1.])[:,:2]\n",
    "\n",
    "eps=3.2\n",
    "EN = dy.EpsilonNet(eps, 0)\n",
    "dists = EN.fit(train_points)\n",
    "lms = EN.landmarks\n",
    "print(lms.shape)"
   ]
  },
  {
   "cell_type": "code",
   "execution_count": null,
   "metadata": {
    "pycharm": {
     "name": "#%%\n"
    }
   },
   "outputs": [],
   "source": [
    "fig = plt.figure(figsize=(10, 8))\n",
    "ax = fig.add_subplot()\n",
    "ax.scatter(train_points[:,0], train_points[:,1], s=0.2)\n",
    "ax.scatter(lms[:,0], lms[:,1], s=7.2)\n",
    "plt.xlim((-22,22))\n",
    "plt.ylim((-27,29))\n",
    "fig.savefig('lorenz_2d_pred_1.pdf', format='pdf')\n",
    "fig.savefig('lorenz_2d_pred_1.png', format='png')\n",
    "for lm in lms:\n",
    "    crc = plt.Circle(lm, eps, color='r', alpha=0.1)\n",
    "    ax.add_patch(crc)\n",
    "\n",
    "fig.savefig('lorenz_2d_pred_2_dense.pdf', format='pdf')\n",
    "fig.savefig('lorenz_2d_pred_2.png', format='png')"
   ]
  },
  {
   "cell_type": "code",
   "execution_count": null,
   "metadata": {
    "pycharm": {
     "name": "#%%\n"
    }
   },
   "outputs": [],
   "source": [
    "seer = dy.Seer(train_points, lms, eps)\n",
    "nc = dy.NerveComplex(lms, eps, 2, train_points)"
   ]
  },
  {
   "cell_type": "code",
   "execution_count": null,
   "metadata": {
    "pycharm": {
     "name": "#%%\n"
    },
    "scrolled": false
   },
   "outputs": [],
   "source": [
    "t0 = 1590\n",
    "t1 = t0 + 15\n",
    "tpredict = 0\n",
    "# t0 = 3960\n",
    "# t1 = t0 + 15\n",
    "# tpredict = 150\n",
    "# t0 = 1993\n",
    "# t1 = t0 + 10\n",
    "# tpredict = 100\n",
    "prediction = seer.predict(test_points[t0:t1], tpredict)\n",
    "\n",
    "fig = plt.figure(figsize=(12, 10), dpi=80)\n",
    "ax = fig.add_subplot()\n",
    "ax.plot(test_points[t0:t1,0], test_points[t0:t1,1], c='g')\n",
    "ax.scatter(lms[:,0], lms[:,1])\n",
    "for lm in lms:\n",
    "    crc = plt.Circle(lm, eps, color='r', alpha=0.05)\n",
    "    ax.add_patch(crc)\n",
    "\n",
    "plt.xlim((-22,22))\n",
    "plt.ylim((-27,29))\n",
    "fig.savefig('lorenz_2d_pred_3.pdf', format='pdf')"
   ]
  },
  {
   "cell_type": "code",
   "execution_count": null,
   "metadata": {
    "pycharm": {
     "name": "#%%\n"
    },
    "scrolled": false
   },
   "outputs": [],
   "source": [
    "fig, ax = seer.draw_prediction()\n",
    "ax = fig.add_subplot()\n",
    "ax.plot(test_points[t0:t1,0], test_points[t0:t1,1], c='g')\n",
    "ax.scatter(lms[:,0], lms[:,1])\n",
    "for lm in lms:\n",
    "    crc = plt.Circle(lm, eps, color='r', alpha=0.02)\n",
    "    ax.add_patch(crc)\n",
    "    \n",
    "plt.xlim((-22,22))\n",
    "plt.ylim((-27,29))\n",
    "fig.savefig('lorenz_2d_pred_4.pdf', format='pdf')"
   ]
  },
  {
   "cell_type": "code",
   "execution_count": null,
   "metadata": {
    "pycharm": {
     "name": "#%%\n"
    },
    "scrolled": false
   },
   "outputs": [],
   "source": [
    "t0 = 1590\n",
    "t1 = t0 + 15\n",
    "tpredict = 100\n",
    "prediction = seer.predict(test_points[t0:t1], tpredict)\n",
    "\n",
    "fig, ax = seer.draw_prediction()\n",
    "ax = fig.add_subplot()\n",
    "ax.plot(test_points[t0:t1,0], test_points[t0:t1,1], c='g')\n",
    "ax.scatter(lms[:,0], lms[:,1])\n",
    "for lm in lms:\n",
    "    crc = plt.Circle(lm, eps, color='r', alpha=0.05)\n",
    "    ax.add_patch(crc)\n",
    "\n",
    "    \n",
    "plt.xlim((-22,22))\n",
    "plt.ylim((-27,29))\n",
    "fig.savefig('lorenz_2d_pred_5.pdf', format='pdf')"
   ]
  },
  {
   "cell_type": "code",
   "execution_count": null,
   "metadata": {
    "pycharm": {
     "name": "#%%\n"
    }
   },
   "outputs": [],
   "source": [
    "t0 = 1590\n",
    "t1 = t0 + 15\n",
    "tpredict = 100\n",
    "prediction = seer.predict(test_points[t0:t1], tpredict)\n",
    "\n",
    "fig, ax = seer.draw_prediction()\n",
    "ax = fig.add_subplot()\n",
    "ax.plot(test_points[t0:t1,0], test_points[t0:t1,1], c='g')\n",
    "# ax.scatter(lms[:,0], lms[:,1])\n",
    "# for lm in lms:\n",
    "#     crc = plt.Circle(lm, eps, color='r', alpha=0.05)\n",
    "#     ax.add_patch(crc)\n",
    "\n",
    "    \n",
    "# plt.xlim((-22,22))\n",
    "# plt.ylim((-27,29))\n",
    "fig.savefig('lorenz_2d_pred_6.pdf', format='pdf')"
   ]
  },
  {
   "cell_type": "code",
   "execution_count": null,
   "metadata": {
    "pycharm": {
     "name": "#%%\n"
    },
    "scrolled": false
   },
   "outputs": [],
   "source": [
    "\n",
    "t0 = 1690\n",
    "t1 = t0 + 15\n",
    "tpredict = 100\n",
    "prediction = seer.predict(test_points[t0:t1], tpredict)\n",
    "fig, ax = seer.draw_prediction()\n",
    "\n",
    "\n",
    "seer.draw_hom_grouped_prediction(nc, steps=[30, 60, 80, tpredict-1], prediction=prediction)"
   ]
  },
  {
   "cell_type": "code",
   "execution_count": null,
   "metadata": {
    "pycharm": {
     "name": "#%%\n"
    }
   },
   "outputs": [],
   "source": []
  }
 ],
 "metadata": {
  "kernelspec": {
   "display_name": "Python 3 (ipykernel)",
   "language": "python",
   "name": "python3"
  },
  "language_info": {
   "codemirror_mode": {
    "name": "ipython",
    "version": 3
   },
   "file_extension": ".py",
   "mimetype": "text/x-python",
   "name": "python",
   "nbconvert_exporter": "python",
   "pygments_lexer": "ipython3",
   "version": "3.9.13"
  }
 },
 "nbformat": 4,
 "nbformat_minor": 4
}

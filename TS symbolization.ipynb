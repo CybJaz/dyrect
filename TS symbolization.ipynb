{
 "cells": [
  {
   "cell_type": "code",
   "execution_count": null,
   "id": "941bc338",
   "metadata": {},
   "outputs": [],
   "source": [
    "%matplotlib notebook\n",
    "from IPython.display import display, HTML\n",
    "display(HTML(\"<style>.container { width:100% !important; }</style>\"))\n",
    "from dataclasses import dataclass\n",
    "import numpy as np\n",
    "import dyrect as dy\n",
    "import matplotlib.pyplot as plt\n",
    "from scipy.integrate import RK45\n",
    "from scipy.spatial.distance import cdist\n",
    "import re"
   ]
  },
  {
   "cell_type": "code",
   "execution_count": null,
   "id": "955cf005",
   "metadata": {},
   "outputs": [],
   "source": [
    "np.random.seed(0)\n",
    "\n",
    "# generation of time series from the Lorenz attractor\n",
    "train_points = dy.lorenz_attractor(40000, step=0.01, adaptive_step=False, starting_point=[1.,1.,1.], skip=2000)\n",
    "test_points = dy.lorenz_attractor(5000, step=0.01, adaptive_step=False, starting_point=[-1.,-1.,1.], skip=2000)\n",
    "\n",
    "# epsilon net of the training time series, landmarks will be our symbols\n",
    "eps=4.0\n",
    "EN = dy.EpsilonNet(eps, 0)\n",
    "dists = EN.fit(train_points)\n",
    "lms = EN.landmarks\n",
    "print(lms.shape)\n",
    "\n",
    "fig = plt.figure()\n",
    "ax = fig.add_subplot(projection='3d')\n",
    "ax.scatter(train_points[:,0], train_points[:,1], train_points[:,2], s=0.2)\n",
    "ax.scatter(lms[:,0], lms[:,1], lms[:,2], s=7.2)"
   ]
  },
  {
   "cell_type": "code",
   "execution_count": null,
   "id": "04e5fd79",
   "metadata": {},
   "outputs": [],
   "source": [
    "# method for transforming a discrete trajectory into sequence of symbols, aka sequence of landmarks indices\n",
    "symbs = dy.symbolization(test_points, lms, eps)\n",
    "# Seer is a class for comparing new trajectories with the training time series \n",
    "seer = dy.Seer(train_points, lms, eps)"
   ]
  },
  {
   "cell_type": "code",
   "execution_count": null,
   "id": "cf811581",
   "metadata": {
    "scrolled": true
   },
   "outputs": [],
   "source": [
    "t0 = 1600\n",
    "t1 = t0 + 10\n",
    "# number of time steps to predict\n",
    "tpredict = 200\n",
    "\n",
    "# query: a piece of trajectory taken from a test time series\n",
    "query = test_points[t0:t1]\n",
    "# predict seeks for trajectories in a training time series that gives the same symbolization as a given query, \n",
    "# it also returns t-symbols (t given by the second argument) that follow the subsequence for every found occurence\n",
    "prediction = seer.predict(query, tpredict)\n",
    "\n",
    "# symbolization of the query\n",
    "print(prediction.past)\n",
    "print(len(prediction.futures))\n",
    "# all occurences of the symbolization of the query are summarized here\n",
    "print(\"In the training time series the symbol sequence given by the query was followed by:\")\n",
    "for future in prediction.futures:\n",
    "    print(str(future.sequence))\n",
    "    print(\"At time steps intervals: \" + str(future.occurences))\n",
    "    print(\"Number of occurances: \" + str(future.counter))"
   ]
  },
  {
   "cell_type": "code",
   "execution_count": null,
   "id": "89d9b8d3",
   "metadata": {},
   "outputs": [],
   "source": [
    "seer.draw_prediction()"
   ]
  },
  {
   "cell_type": "code",
   "execution_count": null,
   "id": "92e69a6d",
   "metadata": {
    "scrolled": true
   },
   "outputs": [],
   "source": [
    "pwc = dy.PatchedWitnessComplex(lms, train_points, 2, patching_level=3)\n",
    "pwc._dim = 3\n",
    "dy.draw_complex(pwc)"
   ]
  },
  {
   "cell_type": "code",
   "execution_count": null,
   "id": "3159a41a",
   "metadata": {
    "scrolled": false
   },
   "outputs": [],
   "source": [
    "seer.draw_hom_grouped_prediction(pwc, steps=[60, 122, 190], prediction=prediction)"
   ]
  },
  {
   "cell_type": "code",
   "execution_count": null,
   "id": "59eb555a",
   "metadata": {},
   "outputs": [],
   "source": []
  }
 ],
 "metadata": {
  "kernelspec": {
   "display_name": "Python 3 (ipykernel)",
   "language": "python",
   "name": "python3"
  },
  "language_info": {
   "codemirror_mode": {
    "name": "ipython",
    "version": 3
   },
   "file_extension": ".py",
   "mimetype": "text/x-python",
   "name": "python",
   "nbconvert_exporter": "python",
   "pygments_lexer": "ipython3",
   "version": "3.9.13"
  }
 },
 "nbformat": 4,
 "nbformat_minor": 5
}
